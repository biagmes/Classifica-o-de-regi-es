{
  "nbformat": 4,
  "nbformat_minor": 0,
  "metadata": {
    "colab": {
      "provenance": [],
      "authorship_tag": "ABX9TyOBiP0XmDnhaAlKiZOBS9Qn",
      "include_colab_link": true
    },
    "kernelspec": {
      "name": "python3",
      "display_name": "Python 3"
    },
    "language_info": {
      "name": "python"
    }
  },
  "cells": [
    {
      "cell_type": "markdown",
      "metadata": {
        "id": "view-in-github",
        "colab_type": "text"
      },
      "source": [
        "<a href=\"https://colab.research.google.com/github/biagmes/Classifica-o-de-regi-es/blob/main/Distancia_reta_cidade_capital.ipynb\" target=\"_parent\"><img src=\"https://colab.research.google.com/assets/colab-badge.svg\" alt=\"Open In Colab\"/></a>"
      ]
    },
    {
      "cell_type": "code",
      "execution_count": 6,
      "metadata": {
        "colab": {
          "base_uri": "https://localhost:8080/"
        },
        "id": "opqXpnpaNtlD",
        "outputId": "2c6437b6-bcbe-4f73-f575-7a1fba1e5ced"
      },
      "outputs": [
        {
          "output_type": "stream",
          "name": "stdout",
          "text": [
            "Lendo arquivo: C:\\Users\\Binca Gomes\\OneDrive - DIEL ENERGIA LTDA\\Classificação de regioes_new.xlsx\n",
            "Ocorreu um erro ao processar o arquivo: FileNotFoundError - [Errno 2] No such file or directory: 'C:\\\\Users\\\\Binca Gomes\\\\OneDrive - DIEL ENERGIA LTDA\\\\Classificação de regioes_new.xlsx'\n"
          ]
        }
      ],
      "source": [
        "import math\n",
        "import pandas as pd\n",
        "import numpy as np\n",
        "import os  # para manipular caminhos de arquivos\n",
        "\n",
        "def calculate_distances_vectorized(df):\n",
        "    \"\"\"\n",
        "    Calcula distâncias entre dois pontos na superfície da Terra usando cálculos vetorizados.\n",
        "\n",
        "    Parâmetros:\n",
        "        df (pandas DataFrame): O DataFrame contendo as colunas lon1, lat1, lon2 e lat2.\n",
        "\n",
        "    Retorna:\n",
        "        pandas Series: As distâncias entre os dois pontos em quilômetros.\n",
        "    \"\"\"\n",
        "    lon1 = np.radians(df['lon1'])\n",
        "    lat1 = np.radians(df['lat1'])\n",
        "    lon2 = np.radians(df['lon2'])\n",
        "    lat2 = np.radians(df['lat2'])\n",
        "\n",
        "    dlon = lon2 - lon1\n",
        "    dlat = lat2 - lat1\n",
        "    a = np.sin(dlat / 2)**2 + np.cos(lat1) * np.cos(lat2) * np.sin(dlon / 2)**2\n",
        "    c = 2 * np.arctan2(np.sqrt(a), np.sqrt(1 - a))\n",
        "\n",
        "    R = 6371  # Raio da Terra em km\n",
        "    distances = R * c\n",
        "    return distances\n",
        "\n",
        "def main():\n",
        "    # 🟢 Defina o caminho completo do arquivo Excel aqui:\n",
        "    file_path = r'C:\\Users\\Binca Gomes\\OneDrive - DIEL ENERGIA LTDA\\Classificação de regioes_new.xlsx'\n",
        "\n",
        "    try:\n",
        "        # 🟢 Verifica se o caminho contém uma extensão .xlsx ou .xls\n",
        "        if not os.path.splitext(file_path)[1] in ['.xlsx', '.xls']:\n",
        "            print(\"Por favor, selecione um arquivo Excel válido.\")\n",
        "            return\n",
        "\n",
        "        print(f\"Lendo arquivo: {file_path}\")\n",
        "\n",
        "        # 🟢 Carrega o arquivo Excel em um DataFrame pandas\n",
        "        df = pd.read_excel(file_path)\n",
        "\n",
        "        # 🟢 Converte o nome das colunas para minúsculas para evitar falhas na verificação\n",
        "        df.columns = df.columns.str.lower()\n",
        "\n",
        "        # 🟢 Verifica se as colunas obrigatórias estão presentes\n",
        "        required_columns = ['lon1', 'lat1', 'lon2', 'lat2']\n",
        "        if set(required_columns).issubset(df.columns):\n",
        "            print(\"Calculando distâncias...\")\n",
        "\n",
        "            # Remove linhas com valores ausentes (NaN) para evitar erros no cálculo\n",
        "            df = df.dropna(subset=required_columns)\n",
        "\n",
        "            # 🟢 Calcula as distâncias\n",
        "            df['Distance (km)'] = calculate_distances_vectorized(df)\n",
        "\n",
        "            # 🟢 Salva o arquivo Excel com as distâncias adicionadas\n",
        "            output_path = r'C:\\Users\\Binca Gomes\\OneDrive - DIEL ENERGIA LTDA\\Classificação de regioes_new_atualizado.xlsx'\n",
        "            df.to_excel(output_path, index=False)\n",
        "            print(f\"Arquivo atualizado com as distâncias e salvo em: {output_path}\")\n",
        "        else:\n",
        "            print(f\"O arquivo não contém as colunas necessárias: {required_columns}.\")\n",
        "    except Exception as e:\n",
        "        print(f\"Ocorreu um erro ao processar o arquivo: {type(e).__name__} - {e}\")\n",
        "\n",
        "if __name__ == \"__main__\":\n",
        "    main()\n"
      ]
    }
  ]
}