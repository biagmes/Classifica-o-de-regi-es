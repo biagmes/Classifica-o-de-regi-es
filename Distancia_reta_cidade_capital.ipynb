{
  "nbformat": 4,
  "nbformat_minor": 0,
  "metadata": {
    "colab": {
      "provenance": [],
      "authorship_tag": "ABX9TyOtkCMQqrHIgBXunN71JvR2",
      "include_colab_link": true
    },
    "kernelspec": {
      "name": "python3",
      "display_name": "Python 3"
    },
    "language_info": {
      "name": "python"
    }
  },
  "cells": [
    {
      "cell_type": "markdown",
      "metadata": {
        "id": "view-in-github",
        "colab_type": "text"
      },
      "source": [
        "<a href=\"https://colab.research.google.com/github/biagmes/Classifica-o-de-regi-es/blob/main/Distancia_reta_cidade_capital.ipynb\" target=\"_parent\"><img src=\"https://colab.research.google.com/assets/colab-badge.svg\" alt=\"Open In Colab\"/></a>"
      ]
    },
    {
      "cell_type": "code",
      "source": [
        "import pandas as pd\n",
        "from geopy.distance import geodesic\n",
        "\n",
        "# Carregar o arquivo CSV com o delimitador correto\n",
        "url = 'https://raw.githubusercontent.com/biagmes/Classifica-o-de-regi-es/main/Classifica%C3%A7%C3%A3o%20de%20regioes_new.csv'  # Substitua pelo caminho correto do seu arquivo\n",
        "df = pd.read_csv(url, delimiter=';', encoding='latin1')  # Usando delimitador ponto e vírgula\n",
        "\n",
        "# Verificar os nomes das colunas e remover espaços extras\n",
        "df.columns = df.columns.str.strip()\n",
        "\n",
        "# Substituir as vírgulas por pontos nas coordenadas\n",
        "df['lon1'] = df['lon1'].str.replace(',', '.').astype(float)\n",
        "df['lat1'] = df['lat1'].str.replace(',', '.').astype(float)\n",
        "df['lon2'] = df['lon2'].str.replace(',', '.').astype(float)\n",
        "df['lat2'] = df['lat2'].str.replace(',', '.').astype(float)\n",
        "\n",
        "# Função para verificar se as coordenadas estão no intervalo válido\n",
        "def is_valid_coordinates(lat, lon):\n",
        "    return -90 <= lat <= 90 and -180 <= lon <= 180\n",
        "\n",
        "# Função para calcular a distância usando o Haversine\n",
        "def calculate_haversine_distance(lon1, lat1, lon2, lat2):\n",
        "    # Verificar se as coordenadas são válidas antes de calcular\n",
        "    if is_valid_coordinates(lat1, lon1) and is_valid_coordinates(lat2, lon2):\n",
        "        point1 = (lat1, lon1)\n",
        "        point2 = (lat2, lon2)\n",
        "        return geodesic(point1, point2).kilometers\n",
        "    else:\n",
        "        return None  # Retornar None se as coordenadas forem inválidas\n",
        "\n",
        "# Calcular a distância entre as coordenadas de cada linha\n",
        "df['Distance (km)'] = df.apply(lambda row: calculate_haversine_distance(row['lon1'], row['lat1'], row['lon2'], row['lat2']), axis=1)\n",
        "\n",
        "# Salvar o DataFrame com as distâncias calculadas no diretório atual\n",
        "output_file_path = 'arquivo_com_distancias.csv'  # Salvar no diretório atual\n",
        "df.to_csv(output_file_path, index=False)\n",
        "\n",
        "# Mostrar o caminho do arquivo gerado\n",
        "print(\"Arquivo salvo em:\", output_file_path)\n"
      ],
      "metadata": {
        "colab": {
          "base_uri": "https://localhost:8080/"
        },
        "id": "fAOAcE01yjVK",
        "outputId": "7b291574-c778-471b-e2dc-0847b629344b"
      },
      "execution_count": 38,
      "outputs": [
        {
          "output_type": "stream",
          "name": "stdout",
          "text": [
            "Arquivo salvo em: arquivo_com_distancias.csv\n"
          ]
        }
      ]
    }
  ]
}